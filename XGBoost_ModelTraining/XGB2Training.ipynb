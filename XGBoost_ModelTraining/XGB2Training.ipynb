{
 "cells": [
  {
   "cell_type": "markdown",
   "metadata": {},
   "source": [
    "## Training of 2nd XGBoost model\n",
    "\n"
   ]
  },
  {
   "cell_type": "markdown",
   "metadata": {},
   "source": [
    "# Merging all data for training the 2nd XGBoost model"
   ]
  },
  {
   "cell_type": "code",
   "execution_count": null,
   "metadata": {},
   "outputs": [],
   "source": [
    "import csv\n",
    "# Generate filenames programmatically\n",
    "# Getting XGBoost training data for each simualtion (1000) then merge them into one file, make sure to use correct filepath\n",
    "files = [\"filepath/xxx_{}.csv\".format(i) for i in range(1000)]\n",
    "\n",
    "# Name of the merged file e.g. merged_result.csv\n",
    "merged_filename = \"merged_result.csv\"\n",
    "\n",
    "with open(merged_filename, 'w', newline='') as outfile:\n",
    "    writer = csv.writer(outfile)\n",
    "    \n",
    "    for index, filename in enumerate(files):\n",
    "        with open(filename, 'r') as infile:\n",
    "            reader = csv.reader(infile)\n",
    "            \n",
    "            # Skip header only if it's not the first file\n",
    "            if index != 0:\n",
    "                next(reader, None)\n",
    "                \n",
    "            # Write rows from current file to the output file\n",
    "            writer.writerows(reader)"
   ]
  },
  {
   "cell_type": "markdown",
   "metadata": {},
   "source": [
    "# Sorting/Ranking"
   ]
  },
  {
   "cell_type": "code",
   "execution_count": 1,
   "metadata": {},
   "outputs": [
    {
     "ename": "ModuleNotFoundError",
     "evalue": "No module named 'pandas'",
     "output_type": "error",
     "traceback": [
      "\u001b[0;31m---------------------------------------------------------------------------\u001b[0m",
      "\u001b[0;31mModuleNotFoundError\u001b[0m                       Traceback (most recent call last)",
      "Cell \u001b[0;32mIn[1], line 1\u001b[0m\n\u001b[0;32m----> 1\u001b[0m \u001b[38;5;28;01mimport\u001b[39;00m \u001b[38;5;21;01mpandas\u001b[39;00m \u001b[38;5;28;01mas\u001b[39;00m \u001b[38;5;21;01mpd\u001b[39;00m\n\u001b[1;32m      3\u001b[0m \u001b[38;5;66;03m# Read the merged CSV file into a DataFrame\u001b[39;00m\n\u001b[1;32m      4\u001b[0m df \u001b[38;5;241m=\u001b[39m pd\u001b[38;5;241m.\u001b[39mread_csv(\u001b[38;5;124m\"\u001b[39m\u001b[38;5;124mmerged_result.csv\u001b[39m\u001b[38;5;124m\"\u001b[39m)\n",
      "\u001b[0;31mModuleNotFoundError\u001b[0m: No module named 'pandas'"
     ]
    }
   ],
   "source": [
    "import pandas as pd\n",
    "\n",
    "# Read the merged CSV file into a DataFrame\n",
    "df = pd.read_csv(\"merged_result.csv\")\n",
    "\n",
    "# Sort the DataFrame by balance in descending order\n",
    "df_sorted = df.sort_values(by=\"balance\", ascending=False)\n",
    "\n",
    "df_sorted.head(100)"
   ]
  },
  {
   "cell_type": "markdown",
   "metadata": {},
   "source": [
    "# Top 20% of data\n"
   ]
  },
  {
   "cell_type": "code",
   "execution_count": null,
   "metadata": {},
   "outputs": [],
   "source": [
    "# Calculate 20% of the total number of rows and retrieve the top rows\n",
    "top_20_percent = int(0.20 * len(df_sorted))\n",
    "top_20_df = df_sorted.head(top_20_percent)\n",
    "\n",
    "# Save the top 20% rows to a new CSV file, if desired\n",
    "top_20_df.to_csv(\"top_20_percent.csv\", index=False)"
   ]
  },
  {
   "cell_type": "markdown",
   "metadata": {},
   "source": [
    "# Preparing data"
   ]
  },
  {
   "cell_type": "code",
   "execution_count": null,
   "metadata": {},
   "outputs": [],
   "source": [
    "import pandas as pd\n",
    "import xgboost as xgb\n",
    "from sklearn.model_selection import train_test_split\n",
    "from sklearn.metrics import accuracy_score, classification_report\n",
    "\n",
    "# 1. Import the data\n",
    "data = pd.read_csv(\"top_20_percent.csv\")\n",
    "decision_counts = data[\"decision\"].value_counts()\n",
    "print(decision_counts)\n",
    "# 2. Preprocessing\n",
    "\n",
    "# Remove potentially irrelevant columns\n",
    "data = data.drop(\n",
    "    columns=[\"type\", \"competitorID\", \"exchange\", \"agentID\", \"balance\", \"odds\"]\n",
    ")\n",
    "\n",
    "# Column that has left: time  odds  stake  distance  rank\n",
    "\n",
    "# Convert 'decision' column to binary: 1 for 'backer' and 0 for 'layer'\n",
    "data[\"decision\"] = data[\"decision\"].map({\"backer\": 1, \"layer\": 0})\n",
    "\n",
    "# Split data into training and testing sets\n",
    "X = data.drop(columns=\"decision\")\n",
    "print(X.head())\n",
    "y = data[\"decision\"]\n",
    "X_train, X_test, y_train, y_test = train_test_split(\n",
    "    X, y, test_size=0.2, random_state=42\n",
    ")"
   ]
  },
  {
   "cell_type": "markdown",
   "metadata": {},
   "source": [
    "# Training"
   ]
  },
  {
   "cell_type": "code",
   "execution_count": null,
   "metadata": {},
   "outputs": [],
   "source": [
    "from sklearn.model_selection import GridSearchCV\n",
    "import xgboost as xgb\n",
    "\n",
    "param_grid = {\n",
    "    \"eta\": [0.01, 0.1, 0.3],  # Default: 0.3\n",
    "    \"max_depth\": [4, 5, 6],  # Default: 6\n",
    "    \"subsample\": [0.5, 0.75, 1.0],  # Default: 1\n",
    "    \"colsample_bytree\": [0.5, 0.75, 1.0],  # Default: 1\n",
    "    \"gamma\": [0, 0.1, 0.2],  # Default: 0\n",
    "}\n",
    "# Convert the booster to scikit-learn format\n",
    "xgb_estimator = xgb.XGBClassifier(\n",
    "    objective=\"binary:logistic\",\n",
    "    eval_metric=\"logloss\",\n",
    "    random_state=42,\n",
    "    n_estimators=100,\n",
    ")\n",
    "# Set up grid search\n",
    "grid_search = GridSearchCV(\n",
    "    estimator=xgb_estimator,\n",
    "    param_grid=param_grid,\n",
    "    scoring=\"accuracy\",\n",
    "    n_jobs=-1,\n",
    "    cv=2,\n",
    "    verbose=2,\n",
    ")\n",
    "# Fit the model\n",
    "grid_search.fit(X_train, y_train)\n",
    "\n",
    "# Print best parameters and score\n",
    "print(\"Best parameters found:\", grid_search.best_params_)\n",
    "print(\"Best cross-validation score:\", grid_search.best_score_)\n",
    "\n",
    "# Use the best model for prediction and evaluation\n",
    "best_model = grid_search.best_estimator_\n",
    "\n",
    "y_pred_best = best_model.predict(X_test)\n",
    "accuracy_best = accuracy_score(y_test, y_pred_best)\n",
    "print(\"Accuracy (Best Model):\", accuracy_best)\n",
    "print(classification_report(y_test, y_pred_best))"
   ]
  }
 ],
 "metadata": {
  "kernelspec": {
   "display_name": "Diss",
   "language": "python",
   "name": "python3"
  },
  "language_info": {
   "codemirror_mode": {
    "name": "ipython",
    "version": 3
   },
   "file_extension": ".py",
   "mimetype": "text/x-python",
   "name": "python",
   "nbconvert_exporter": "python",
   "pygments_lexer": "ipython3",
   "version": "3.11.7"
  }
 },
 "nbformat": 4,
 "nbformat_minor": 2
}
